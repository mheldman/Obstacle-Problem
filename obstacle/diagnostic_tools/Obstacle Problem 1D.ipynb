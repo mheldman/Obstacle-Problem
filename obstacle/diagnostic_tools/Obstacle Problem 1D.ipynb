{
 "cells": [
  {
   "cell_type": "code",
   "execution_count": 5,
   "metadata": {
    "collapsed": true
   },
   "outputs": [],
   "source": [
    "import sys, os\n",
    "old_stdout = sys.stdout \n",
    "# Disable\n",
    "def blockPrint():\n",
    "    sys.stdout = open(os.devnull, 'w')\n",
    "# Restore\n",
    "def enablePrint():\n",
    "    sys.stdout = old_stdout\n"
   ]
  },
  {
   "cell_type": "code",
   "execution_count": 6,
   "metadata": {
    "collapsed": false
   },
   "outputs": [],
   "source": [
    "import numpy as np\n",
    "from cvxopt import solvers, matrix\n",
    "def obstacleqp(psi, m, f, a = 0, b = 0):\n",
    "  h = 1/(m+1)\n",
    "  Uk = np.zeros((m,1))\n",
    "  A = np.zeros((m+1,m))\n",
    "  A[0,0] = 1.0\n",
    "  A[m, m-1] = -1.0\n",
    "  for i in range(1, m):\n",
    "    A[i, i - 1] = -1.0\n",
    "    A[i, i] = 1.0\n",
    "  print(A)\n",
    "  X1 = np.linspace(-1.0,1.0,m + 2)\n",
    "  X = np.zeros((m+2,1))\n",
    "  for i in range(m+2):\n",
    "        X[i] = X1[i]\n",
    "  F = f(X)[1:m+1]\n",
    "  P = psi(X)[1:m+1]\n",
    "  for i in range(0,m):\n",
    "    Uk[i] = max(psi(-1.0 + 2*i/(m+1)),0.0)\n",
    "  A = A/(h**2)\n",
    "  gradxk = np.zeros(m)\n",
    "  sol = solvers.qp(matrix(np.dot(np.transpose(A),A)),matrix(F),matrix(-np.identity(m)),matrix(-P),initvals=matrix(Uk));\n",
    "  U = sol['x']\n",
    "  py.plot(X,[0] + list(U) + [0])\n",
    "  py.plot(X,[psi(-1)] + list(P) + [psi(1)])\n",
    "  py.ylim(0,1.1)\n",
    "  return X, U\n",
    "f1 = lambda x: (1/x**6)\n",
    "f2 = lambda x: x*0\n",
    "psi = lambda x: np.sin(x)\n",
    "#[X1,U1] = obstacle(psi,1000,f1,-1,1)\n",
    "#[X2,U2] = obstacle(psi,1000,f2,-1,1)\n",
    "#print(abs(max(U1- U2)))"
   ]
  },
  {
   "cell_type": "code",
   "execution_count": 7,
   "metadata": {
    "collapsed": true
   },
   "outputs": [],
   "source": [
    "import matplotlib.pyplot as py\n",
    "%matplotlib inline\n"
   ]
  },
  {
   "cell_type": "code",
   "execution_count": 11,
   "metadata": {
    "collapsed": false,
    "scrolled": true
   },
   "outputs": [
    {
     "name": "stdout",
     "output_type": "stream",
     "text": [
      "[[  0.00000000e+00]\n",
      " [  4.27492366e-03]\n",
      " [  2.13347890e-03]\n",
      " ..., \n",
      " [  8.53165243e-06]\n",
      " [  8.53165243e-06]\n",
      " [  0.00000000e+00]]\n"
     ]
    },
    {
     "data": {
      "image/png": "[encoded data removed]",
      "text/plain": [
       "<matplotlib.figure.Figure at 0x10c6f5828>"
      ]
     },
     "metadata": {},
     "output_type": "display_data"
    }
   ],
   "source": [
    "import numpy as np\n",
    "from cvxopt import solvers, matrix\n",
    "def omegabuild(Uk, P):\n",
    "    m = len(Uk)\n",
    "    domega = []\n",
    "    omega = []\n",
    "    R = []\n",
    "    if Uk[0] == P[0]:\n",
    "        equals = False\n",
    "    else:\n",
    "        equals = True\n",
    "    for i in range(1,m):\n",
    "        if abs(Uk[i] - P[i]) < 10**-15 and equals == False:\n",
    "            domega.append(i)\n",
    "            equals = True\n",
    "        elif abs(Uk[i] - P[i]) >= 10**-15 and equals == True:\n",
    "            domega.append(i)\n",
    "            equals = False\n",
    "    for j in range(len(domega)):\n",
    "        if abs(Uk[domega[j]] - P[domega[j]]) == 0:\n",
    "            omega = omega + [i for i in range(domega[j],domega[min(j+1,len(domega) - 1)] + 1)]\n",
    "        else:\n",
    "            R = R + [i for i in range(domega[j] + 1,domega[min(j+1,len(domega) - 1)])]\n",
    "    domega = domega + [m-1]\n",
    "    domega = sorted(list(set(domega)))\n",
    "    return omega, domega, R\n",
    "    \n",
    "                \n",
    "        \n",
    "def obstacle(psi, m, a = 0, b = 0):\n",
    "  h = 2/(m+1)\n",
    "  Uk = np.zeros((m+2,1))\n",
    "  X = np.linspace(-1.0,1.0,m + 2)\n",
    "  P = psi(X)\n",
    "  for i in range(1,m+1):\n",
    "    Uk[i] = max(P[i],0.0)\n",
    "  solved = False\n",
    "  k = 0\n",
    "  uold = Uk\n",
    "  while (solved == False):\n",
    "      k += 1\n",
    "      [omega, domega, R] = omegabuild(Uk, P)\n",
    "      '''\n",
    "      if abs(Uk[i + 1] - P[i+1]) < 10**-9:\n",
    "            if abs(Uk[i] - Uk[i - 1] - P[i + 1] + P[i]) > 10**-9:\n",
    "                    Uk[i] = (Uk[i-1] + Uk[i+1])/2\n",
    "            else:\n",
    "                if Uk[i] < P[i]:\n",
    "                    Uk[i] = P[i]\n",
    "                elif abs(Uk[i + 1] - Uk[i] - P[i] + P[i - 1]) > 10**-9:\n",
    "                    Uk[i] = (Uk[i - 1] + Uk[i + 1])/2\n",
    "      '''\n",
    "      for i in range(1,len(domega) - 1):\n",
    "            j1 = domega[i]\n",
    "            j2 = domega[i - 1]\n",
    "            j3 = domega[i + 1]\n",
    "            flag = False\n",
    "            if abs(Uk[j1] - P[j1]) < 10**-15:\n",
    "                if abs((Uk[j1] - Uk[j1 - 1])/h**2 + 8*(-1 + j1*h)) > 10**-8:\n",
    "                    flag = True\n",
    "                if flag:\n",
    "                    slope = (Uk[j1] - Uk[j2])/(h*(j1 - j2))\n",
    "                    for j in range(j2,j1 + 1):\n",
    "                        Uk[j] = U[j-1] + slope*h\n",
    "            else:\n",
    "                if abs((Uk[j1] - Uk[j1 + 1])/h**2 - 8*(-1 + j1*h)) > 10**-8:\n",
    "                    flag = True\n",
    "                if flag:\n",
    "                    slope = (Uk[j3] - Uk[j1])/(h*(j3 - j1))\n",
    "                    for j in range(j1,j3):\n",
    "                        Uk[j] = U[j-1] + slope*h\n",
    "                  \n",
    "            Uk[0] = a\n",
    "            Uk[m+1] = b\n",
    "            for i in range(m):\n",
    "                Uk[i] = max(Uk[i],P[i])\n",
    "      if  max(abs(U - uold)) < 10**-8 or k > 10000 or len(domega) == 2:\n",
    "        solved = True\n",
    "      uold = Uk\n",
    "\n",
    "  '''\n",
    "  while(solved == False):\n",
    "     i = 0\n",
    "     k += 1\n",
    "     while(i < m + 2):\n",
    "        found = False\n",
    "        if abs(P[i] - Uk[i]) > 10**-9 and i < m + 1 and i > 0:\n",
    "            found = True\n",
    "            if Uk[i] > P[i]:\n",
    "                if Uk[i-1] + Uk[i+1] - 2*Uk[i] != 0:\n",
    "                    Uk[i] = (Uk[i+1] + Uk[i-1])/2\n",
    "            else:\n",
    "                Uk[i] = P[i]\n",
    "        i += 1\n",
    "        if abs(P[i] - Uk[i]) < 10**-9 and found == True:\n",
    "            if abs(Uk[i - 1] - P[i - 1] + P[i] - Uk[i]) > 10**-9:\n",
    "                Uk[i] = (Uk[i-1] + P[i+1])/2\n",
    "                i = i - 1\n",
    "        elif i == m+1:\n",
    "            py.plot(X,list(Uk))\n",
    "            py.plot(X,list(P))\n",
    "            return Uk\n",
    "        i += 1\n",
    "     if k > 1000000 or max(abs(U-Uk)) < 10**-9:\n",
    "        print(max(abs(U - Uk)))\n",
    "        break\n",
    "    '''\n",
    "  if omega != []:\n",
    "      print(abs(P[omega] - Uk[omega]))\n",
    "     \n",
    "  py.plot(X,list(Uk))\n",
    "  py.plot(X,list(P))\n",
    "  x = np.argmax(abs(U - Uk))\n",
    "  i = -1 + h*x\n",
    "  py.plot(i,Uk[x],'b*')\n",
    "  py.plot(i,U[x],'r*')\n",
    "  py.ylim(0,1.2)\n",
    "  print(abs(U-Uk))\n",
    "  return Uk\n",
    "\n",
    "psi = lambda x: 1 - 4*x**2\n",
    "dpsi = lambda x: -8*x\n",
    "m = 1000\n",
    "blockPrint()\n",
    "X, U2 = obstacleqp(psi,m,f2)\n",
    "enablePrint()\n",
    "U = np.zeros((m+2,1))\n",
    "for i in range(1,m):\n",
    "    U[i] = U2[i]\n",
    "U1 = obstacle(psi,m)\n",
    "h = 1/(m+1)\n",
    "x1 = -1 + np.sqrt(3)/2\n",
    "x2 = -x1\n",
    "uexact = np.zeros((m+2,1))\n",
    "slope1 = (1-4*x1**2)/(x1 + 1)\n",
    "slope2 = (1-4*x2**2)/(x2 - 1)\n",
    "for i in range(0,m+2):\n",
    "    if -1.0 + 2*i*h < x1:\n",
    "        uexact[i] = slope1*2*i*h\n",
    "    elif -1.0 + 2*i*h > x2:\n",
    "        uexact[i] = uexact[i - 1] + 2*slope2*h\n",
    "    else:\n",
    "        uexact[i] = psi(-1 + 2*i*h)\n"
   ]
  },
  {
   "cell_type": "code",
   "execution_count": 9,
   "metadata": {
    "collapsed": false
   },
   "outputs": [
    {
     "name": "stdout",
     "output_type": "stream",
     "text": [
      "[ 0.00213349]\n"
     ]
    }
   ],
   "source": [
    "\n",
    "print(max(abs(U1 - uexact)))"
   ]
  },
  {
   "cell_type": "code",
   "execution_count": 89,
   "metadata": {
    "collapsed": false
   },
   "outputs": [
    {
     "data": {
      "text/plain": [
       "(0, 1.2)"
      ]
     },
     "execution_count": 89,
     "metadata": {},
     "output_type": "execute_result"
    },
    {
     "data": {
      "image/png": "[encoded data removed]",
      "text/plain": [
       "<matplotlib.figure.Figure at 0x12308d0f0>"
      ]
     },
     "metadata": {},
     "output_type": "display_data"
    }
   ],
   "source": [
    "py.ylim(0,1.2)"
   ]
  },
  {
   "cell_type": "code",
   "execution_count": 90,
   "metadata": {
    "collapsed": false,
    "scrolled": true
   },
   "outputs": [],
   "source": [
    "print(uexact)"
   ]
  },
  {
   "cell_type": "code",
   "execution_count": 286,
   "metadata": {
    "collapsed": false
   },
   "outputs": [
    {
     "data": {
      "text/plain": [
       "0.000999000999000999"
      ]
     },
     "execution_count": 286,
     "metadata": {},
     "output_type": "execute_result"
    }
   ],
   "source": [
    "1/1001"
   ]
  },
  {
   "cell_type": "code",
   "execution_count": 96,
   "metadata": {
    "collapsed": false
   },
   "outputs": [],
   "source": [
    "print(uexact- U)"
   ]
  },
  {
   "cell_type": "code",
   "execution_count": 12,
   "metadata": {
    "collapsed": false,
    "scrolled": false
   },
   "outputs": [
    {
     "data": {
      "text/plain": [
       "(-0.1, 1.01)"
      ]
     },
     "execution_count": 12,
     "metadata": {},
     "output_type": "execute_result"
    },
    {
     "data": {
      "image/png": "[encoded data removed]",
      "text/plain": [
       "<matplotlib.figure.Figure at 0x1120f62b0>"
      ]
     },
     "metadata": {},
     "output_type": "display_data"
    }
   ],
   "source": [
    "py.plot(X,uexact)\n",
    "py.plot(X,U1)\n",
    "py.plot(X,U)\n",
    "py.plot(X,psi(X))\n",
    "py.ylim(-.1,1.01)"
   ]
  },
  {
   "cell_type": "code",
   "execution_count": 10,
   "metadata": {
    "collapsed": false
   },
   "outputs": [
    {
     "name": "stdout",
     "output_type": "stream",
     "text": [
      "[[  0.00000000e+00]\n",
      " [  2.14145209e-03]\n",
      " [  4.28290417e-03]\n",
      " ..., \n",
      " [  4.27799827e-03]\n",
      " [  2.13654619e-03]\n",
      " [ -4.90590027e-06]]\n"
     ]
    }
   ],
   "source": [
    "print(uexact)"
   ]
  },
  {
   "cell_type": "code",
   "execution_count": 13,
   "metadata": {
    "collapsed": false
   },
   "outputs": [
    {
     "name": "stdout",
     "output_type": "stream",
     "text": [
      "[[ 3.        ]\n",
      " [ 2.9861734 ]\n",
      " [ 2.97237874]\n",
      " ..., \n",
      " [ 2.97237384]\n",
      " [ 2.9861685 ]\n",
      " [ 2.99999509]]\n"
     ]
    }
   ],
   "source": [
    "print(uexact - psi(X))"
   ]
  },
  {
   "cell_type": "code",
   "execution_count": null,
   "metadata": {
    "collapsed": true
   },
   "outputs": [],
   "source": []
  }
 ],
 "metadata": {
  "anaconda-cloud": {},
  "kernelspec": {
   "display_name": "Python [Root]",
   "language": "python",
   "name": "Python [Root]"
  },
  "language_info": {
   "codemirror_mode": {
    "name": "ipython",
    "version": 3
   },
   "file_extension": ".py",
   "mimetype": "text/x-python",
   "name": "python",
   "nbconvert_exporter": "python",
   "pygments_lexer": "ipython3",
   "version": "3.5.2"
  }
 },
 "nbformat": 4,
 "nbformat_minor": 0
}
