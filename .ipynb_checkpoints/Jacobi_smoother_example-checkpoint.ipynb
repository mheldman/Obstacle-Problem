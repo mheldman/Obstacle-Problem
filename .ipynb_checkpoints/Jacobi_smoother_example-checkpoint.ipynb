{
 "cells": [
  {
   "cell_type": "code",
   "execution_count": 1,
   "metadata": {
    "collapsed": false
   },
   "outputs": [
    {
     "data": {
      "text/plain": [
       "[<matplotlib.lines.Line2D at 0x1134b3c50>]"
      ]
     },
     "execution_count": 1,
     "metadata": {},
     "output_type": "execute_result"
    }
   ],
   "source": [
    "from numpy import zeros, pi, dot, linspace, sin\n",
    "import numpy as np\n",
    "import matplotlib.pyplot as plt\n",
    "#%matplotlib inline\n",
    "\n",
    "m = 20\n",
    "A = zeros((m, m))\n",
    "for i in range(1, m - 1):\n",
    "    A[i, (i - 1, i, i + 1)] = 1.0, -2.0, 1.0\n",
    "A[0, (0, 1)] = -2.0, 1.0\n",
    "A[m - 1, (m - 2, m - 1)] = 1.0, -2.0\n",
    "F = zeros(m)\n",
    "F[0] = -1.0\n",
    "F[m - 1] = -1.0\n",
    "h = 6*pi/(m + 1)\n",
    "F = F/h**2\n",
    "A = A/h**2\n",
    "X = linspace(0, 6*pi, m + 2)\n",
    "plt.plot(X, sin(X) + 1)\n",
    "U = sin(X[1:m + 1]) + 1\n",
    "\n",
    "def jacobi(A, U, F, maxiters = 2):\n",
    "    for i in range(maxiters):\n",
    "        Uold = zeros(len(U))\n",
    "        for j in range(len(U)):\n",
    "            Uold[j] = U[j]\n",
    "        for j in range(len(U)):\n",
    "            U[j] = (1/A[j, j])*(F[j] - dot(A[j, :], Uold)) + Uold[j]\n",
    "    return U\n",
    "\n",
    "U = jacobi(A, U, F)\n",
    "Unew = zeros(m + 2)\n",
    "Unew[1:m + 1] = U\n",
    "Unew[0] = 1\n",
    "Unew[m + 1] = 1\n",
    "\n",
    "plt.plot(X, Unew)\n"
   ]
  },
  {
   "cell_type": "code",
   "execution_count": null,
   "metadata": {
    "collapsed": true
   },
   "outputs": [],
   "source": []
  }
 ],
 "metadata": {
  "anaconda-cloud": {},
  "kernelspec": {
   "display_name": "Python [Root]",
   "language": "python",
   "name": "Python [Root]"
  },
  "language_info": {
   "codemirror_mode": {
    "name": "ipython",
    "version": 3
   },
   "file_extension": ".py",
   "mimetype": "text/x-python",
   "name": "python",
   "nbconvert_exporter": "python",
   "pygments_lexer": "ipython3",
   "version": "3.5.2"
  }
 },
 "nbformat": 4,
 "nbformat_minor": 0
}
